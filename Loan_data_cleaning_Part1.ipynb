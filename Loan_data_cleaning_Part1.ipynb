{
 "cells": [
  {
   "cell_type": "markdown",
   "metadata": {},
   "source": [
    "what is dti?\n",
    "\n",
    "A debt income ratio (often abbreviated DTI) is the percentage of a consumer's monthly gross income that goes toward paying debts. (Speaking precisely, DTIs often cover more than just debts; they can include principal, taxes, fees, and insurance premiums as well."
   ]
  },
  {
   "cell_type": "markdown",
   "metadata": {},
   "source": [
    "- LoanStatNew\tDescription\n",
    "\n",
    "- addr_state\tThe state provided by the borrower in the loan application\n",
    "\n",
    "- annual_inc\tThe self-reported annual income provided by the borrower during registration.\n",
    "\n",
    "- annual_inc_joint\tThe combined self-reported annual income provided by the co-borrowers during registration\n",
    "\n",
    "- application_type\tIndicates whether the loan is an individual application or a joint application with two co-borrowers\n",
    "\n",
    "- collection_recovery_fee\tpost charge off collection fee\n",
    "\n",
    "- collections_12_mths_ex_med\tNumber of collections in 12 months excluding medical collections\n",
    "\n",
    "- delinq_2yrs\tThe number of 30+ days past-due incidences of delinquency in the borrower's credit file for the past 2 years\n",
    "\n",
    "- desc\tLoan description provided by the borrower\n",
    "\n",
    "- dti\tA ratio calculated using the borrower’s total monthly debt payments on the total debt obligations, - - - excluding mortgage and the requested LC loan, divided by the borrower’s self-reported monthly income.\n",
    "\n",
    "- dti_joint\tA ratio calculated using the co-borrowers' total monthly payments on the total debt obligations, - excluding mortgages and the requested LC loan, divided by the co-borrowers' combined self-reported monthly income\n",
    "\n",
    "- earliest_cr_line\tThe month the borrower's earliest reported credit line was opened\n",
    "\n",
    "- emp_length\tEmployment length in years. Possible values are between 0 and 10 where 0 means less than one year \n",
    "\n",
    "- and 10 means ten or more years. \n",
    "\n",
    "- emp_title\tThe job title supplied by the Borrower when applying for the loan.*\n",
    "\n",
    "- fico_range_high\tThe upper boundary range the borrower’s FICO at loan origination belongs to.\n",
    "\n",
    "- fico_range_low\tThe lower boundary range the borrower’s FICO at loan origination belongs to.\n",
    "\n",
    "- funded_amnt\tThe total amount committed to that loan at that point in time.\n",
    "\n",
    "- funded_amnt_inv\tThe total amount committed by investors for that loan at that point in time.\n",
    "\n",
    "- grade\tLC assigned loan grade\n",
    "\n",
    "- home_ownership\tThe home ownership status provided by the borrower during registration. Our values are: RENT, OWN, MORTGAGE, OTHER.\n"
   ]
  },
  {
   "cell_type": "markdown",
   "metadata": {},
   "source": [
    "- id\tA unique LC assigned ID for the loan listing.\n",
    "\n",
    "- initial_list_status\tThe initial listing status of the loan. Possible values are – W, F\n",
    "\n",
    "- inq_last_6mths\tThe number of inquiries in past 6 months (excluding auto and mortgage inquiries)\n",
    "\n",
    "- \n",
    "- installment\tThe monthly payment owed by the borrower if the loan originates.\n",
    "\n",
    "- int_rate\tInterest Rate on the loan\n",
    "\n",
    "- is_inc_v\tIndicates if income was verified by LC, not verified, or if the income source was verified\n",
    "\n",
    "- issue_d\tThe month which the loan was funded\n",
    "\n",
    "- last_credit_pull_d\tThe most recent month LC pulled credit for this loan\n",
    "\n",
    "- last_fico_range_high\tThe upper boundary range the borrower’s last FICO pulled belongs to.\n",
    "\n",
    "- last_fico_range_low\tThe lower boundary range the borrower’s last FICO pulled belongs to.\n",
    "\n",
    "- last_pymnt_amnt\tLast total payment amount received\n",
    "\n",
    "- last_pymnt_d\tLast month payment was received\n",
    "- loan_amnt\tThe listed amount of the loan applied for by the borrower. If at some point in time, the credit department reduces the loan amount, then it will be reflected in this value.\n",
    "- loan_status\tCurrent status of the loan\n",
    "- member_id\tA unique LC assigned Id for the borrower member.\n",
    "- mths_since_last_delinq\tThe number of months since the borrower's last delinquency.\n",
    "- mths_since_last_major_derog\tMonths since most recent 90-day or worse rating\n",
    "- mths_since_last_record\tThe number of months since the last public record.\n",
    "- next_pymnt_d\tNext scheduled payment date\n",
    "- open_acc\tThe number of open credit lines in the borrower's credit file.\n",
    "- out_prncp\tRemaining outstanding principal for total amount funded\n",
    "- out_prncp_inv\tRemaining outstanding principal for portion of total amount funded by investors\n",
    "- policy_code\t\"publicly available policy_code=1\n",
    "- new products not publicly available policy_code=2\"\n",
    "- pub_rec\tNumber of derogatory public records\n",
    "- purpose\tA category provided by the borrower for the loan request. \n",
    "- pymnt_plan\tIndicates if a payment plan has been put in place for the loan\n",
    "- recoveries\tpost charge off gross recovery\n",
    "- revol_bal\tTotal credit revolving balance\n",
    "- revol_util\tRevolving line utilization rate, or the amount of credit the borrower is using relative to all available revolving credit.\n",
    "- sub_grade\tLC assigned loan subgrade\n",
    "- term\tThe number of payments on the loan. Values are in months and can be either 36 or 60.\n",
    "- title\tThe loan title provided by the borrower\n",
    "- total_acc\tThe total number of credit lines currently in the borrower's credit file\n",
    "- total_pymnt\tPayments received to date for total amount funded\n",
    "- total_pymnt_inv\tPayments received to date for portion of total amount funded by investors\n",
    "- total_rec_int\tInterest received to date\n",
    "- total_rec_late_fee\tLate fees received to date\n",
    "- total_rec_prncp\tPrincipal received to date\n",
    "- url\tURL for the LC page with listing data.\n",
    "- verified_status_joint\tIndicates if the co-borrowers' joint income was verified by LC, not verified, or if the income source was verified\n",
    "- zip_code\tThe first 3 numbers of the zip code provided by the borrower in the loan application.\n",
    "- open_acc_6m\tNumber of open trades in last 6 months\n",
    "- open_il_6m\tNumber of currently active installment trades\n",
    "- open_il_12m\tNumber of installment accounts opened in past 12 months\n",
    "- open_il_24m\tNumber of installment accounts opened in past 24 months\n",
    "- mths_since_rcnt_il\tMonths since most recent installment accounts opened\n",
    "- total_bal_il\tTotal current balance of all installment accounts\n",
    "- il_util\tRatio of total current balance to high credit/credit limit on all install acct\n",
    "- open_rv_12m\tNumber of revolving trades opened in past 12 months\n",
    "- open_rv_24m\tNumber of revolving trades opened in past 24 months\n",
    "- max_bal_bc\tMaximum current balance owed on all revolving accounts\n",
    "- all_util\tBalance to credit limit on all trades\n",
    "- total_rev_hi_lim  \tTotal revolving high credit/credit limit\n",
    "- inq_fi\tNumber of personal finance inquiries\n",
    "- total_cu_tl\tNumber of finance trades\n",
    "- inq_last_12m\tNumber of credit inquiries in past 12 months\n",
    "- acc_now_delinq\tThe number of accounts on which the borrower is now delinquent.\n",
    "- tot_coll_amt\tTotal collection amounts ever owed\n",
    "- tot_cur_bal\tTotal current balance of all accounts\n"
   ]
  },
  {
   "cell_type": "code",
   "execution_count": 14,
   "metadata": {},
   "outputs": [
    {
     "data": {
      "text/html": [
       "<script>requirejs.config({paths: { 'plotly': ['https://cdn.plot.ly/plotly-latest.min']},});if(!window.Plotly) {{require(['plotly'],function(plotly) {window.Plotly=plotly;});}}</script>"
      ],
      "text/vnd.plotly.v1+html": [
       "<script>requirejs.config({paths: { 'plotly': ['https://cdn.plot.ly/plotly-latest.min']},});if(!window.Plotly) {{require(['plotly'],function(plotly) {window.Plotly=plotly;});}}</script>"
      ]
     },
     "metadata": {},
     "output_type": "display_data"
    }
   ],
   "source": [
    "# Import our libraries we are going to use for our data analysis.\n",
    "import tensorflow as tf\n",
    "import pandas as pd\n",
    "import seaborn as sns\n",
    "import numpy as np\n",
    "import matplotlib.pyplot as plt\n",
    "\n",
    "# Plotly visualizations\n",
    "from plotly import tools\n",
    "import plotly.plotly as py\n",
    "import plotly.figure_factory as ff\n",
    "import plotly.graph_objs as go\n",
    "from plotly.offline import download_plotlyjs, init_notebook_mode, plot, iplot\n",
    "init_notebook_mode(connected=True)\n",
    "\n",
    "\n",
    "# For oversampling Library (Dealing with Imbalanced Datasets)\n",
    "from imblearn.over_sampling import SMOTE\n",
    "from collections import Counter\n",
    "from IPython.display import HTML\n",
    "import warnings; warnings.simplefilter('ignore')\n",
    "\n",
    "\n",
    "% matplotlib inline\n",
    "\n",
    "df = pd.read_csv(\"C:/Users/mrferozi/Documents/Panada_ml/loan/lending-club-loan-data/loan_test.csv\",low_memory=False, index_col=0)\n",
    "\n",
    "# Copy of the dataframe\n",
    "original_df = df.copy()\n",
    "\n",
    "import warnings; warnings.simplefilter('ignore')"
   ]
  },
  {
   "cell_type": "code",
   "execution_count": 15,
   "metadata": {},
   "outputs": [
    {
     "data": {
      "text/html": [
       "<div>\n",
       "<style scoped>\n",
       "    .dataframe tbody tr th:only-of-type {\n",
       "        vertical-align: middle;\n",
       "    }\n",
       "\n",
       "    .dataframe tbody tr th {\n",
       "        vertical-align: top;\n",
       "    }\n",
       "\n",
       "    .dataframe thead th {\n",
       "        text-align: right;\n",
       "    }\n",
       "</style>\n",
       "<table border=\"1\" class=\"dataframe\">\n",
       "  <thead>\n",
       "    <tr style=\"text-align: right;\">\n",
       "      <th></th>\n",
       "      <th>loan_amount</th>\n",
       "      <th>funded_amount</th>\n",
       "      <th>investor_funds</th>\n",
       "      <th>term</th>\n",
       "      <th>interest_rate</th>\n",
       "      <th>installment</th>\n",
       "      <th>grade</th>\n",
       "      <th>sub_grade</th>\n",
       "      <th>emp_length</th>\n",
       "      <th>home_ownership</th>\n",
       "      <th>...</th>\n",
       "      <th>application_type</th>\n",
       "      <th>acc_now_delinq</th>\n",
       "      <th>year</th>\n",
       "      <th>loan_condition</th>\n",
       "      <th>region</th>\n",
       "      <th>complete_date</th>\n",
       "      <th>emp_length_int</th>\n",
       "      <th>income_category</th>\n",
       "      <th>loan_condition_int</th>\n",
       "      <th>interest_payments</th>\n",
       "    </tr>\n",
       "  </thead>\n",
       "  <tbody>\n",
       "    <tr>\n",
       "      <th>0</th>\n",
       "      <td>5000</td>\n",
       "      <td>5000</td>\n",
       "      <td>4975.0</td>\n",
       "      <td>36 months</td>\n",
       "      <td>10.65</td>\n",
       "      <td>162.87</td>\n",
       "      <td>B</td>\n",
       "      <td>B2</td>\n",
       "      <td>10+ years</td>\n",
       "      <td>RENT</td>\n",
       "      <td>...</td>\n",
       "      <td>INDIVIDUAL</td>\n",
       "      <td>0.0</td>\n",
       "      <td>2011</td>\n",
       "      <td>Good Loan</td>\n",
       "      <td>munster</td>\n",
       "      <td>01/12/2011</td>\n",
       "      <td>10.0</td>\n",
       "      <td>Low</td>\n",
       "      <td>0</td>\n",
       "      <td>Low</td>\n",
       "    </tr>\n",
       "    <tr>\n",
       "      <th>1</th>\n",
       "      <td>2500</td>\n",
       "      <td>2500</td>\n",
       "      <td>2500.0</td>\n",
       "      <td>60 months</td>\n",
       "      <td>15.27</td>\n",
       "      <td>59.83</td>\n",
       "      <td>C</td>\n",
       "      <td>C4</td>\n",
       "      <td>&lt; 1 year</td>\n",
       "      <td>RENT</td>\n",
       "      <td>...</td>\n",
       "      <td>INDIVIDUAL</td>\n",
       "      <td>0.0</td>\n",
       "      <td>2011</td>\n",
       "      <td>Bad Loan</td>\n",
       "      <td>leinster</td>\n",
       "      <td>01/12/2011</td>\n",
       "      <td>0.5</td>\n",
       "      <td>Low</td>\n",
       "      <td>1</td>\n",
       "      <td>High</td>\n",
       "    </tr>\n",
       "    <tr>\n",
       "      <th>2</th>\n",
       "      <td>2400</td>\n",
       "      <td>2400</td>\n",
       "      <td>2400.0</td>\n",
       "      <td>36 months</td>\n",
       "      <td>15.96</td>\n",
       "      <td>84.33</td>\n",
       "      <td>C</td>\n",
       "      <td>C5</td>\n",
       "      <td>10+ years</td>\n",
       "      <td>RENT</td>\n",
       "      <td>...</td>\n",
       "      <td>INDIVIDUAL</td>\n",
       "      <td>0.0</td>\n",
       "      <td>2011</td>\n",
       "      <td>Good Loan</td>\n",
       "      <td>cannught</td>\n",
       "      <td>01/12/2011</td>\n",
       "      <td>10.0</td>\n",
       "      <td>Low</td>\n",
       "      <td>0</td>\n",
       "      <td>High</td>\n",
       "    </tr>\n",
       "    <tr>\n",
       "      <th>3</th>\n",
       "      <td>10000</td>\n",
       "      <td>10000</td>\n",
       "      <td>10000.0</td>\n",
       "      <td>36 months</td>\n",
       "      <td>13.49</td>\n",
       "      <td>339.31</td>\n",
       "      <td>C</td>\n",
       "      <td>C1</td>\n",
       "      <td>10+ years</td>\n",
       "      <td>RENT</td>\n",
       "      <td>...</td>\n",
       "      <td>INDIVIDUAL</td>\n",
       "      <td>0.0</td>\n",
       "      <td>2011</td>\n",
       "      <td>Good Loan</td>\n",
       "      <td>ulster</td>\n",
       "      <td>01/12/2011</td>\n",
       "      <td>10.0</td>\n",
       "      <td>Low</td>\n",
       "      <td>0</td>\n",
       "      <td>High</td>\n",
       "    </tr>\n",
       "    <tr>\n",
       "      <th>4</th>\n",
       "      <td>3000</td>\n",
       "      <td>3000</td>\n",
       "      <td>3000.0</td>\n",
       "      <td>60 months</td>\n",
       "      <td>12.69</td>\n",
       "      <td>67.79</td>\n",
       "      <td>B</td>\n",
       "      <td>B5</td>\n",
       "      <td>1 year</td>\n",
       "      <td>RENT</td>\n",
       "      <td>...</td>\n",
       "      <td>INDIVIDUAL</td>\n",
       "      <td>0.0</td>\n",
       "      <td>2011</td>\n",
       "      <td>Good Loan</td>\n",
       "      <td>ulster</td>\n",
       "      <td>01/12/2011</td>\n",
       "      <td>1.0</td>\n",
       "      <td>Low</td>\n",
       "      <td>0</td>\n",
       "      <td>Low</td>\n",
       "    </tr>\n",
       "  </tbody>\n",
       "</table>\n",
       "<p>5 rows × 55 columns</p>\n",
       "</div>"
      ],
      "text/plain": [
       "   loan_amount  funded_amount  investor_funds        term  interest_rate  \\\n",
       "0         5000           5000          4975.0   36 months          10.65   \n",
       "1         2500           2500          2500.0   60 months          15.27   \n",
       "2         2400           2400          2400.0   36 months          15.96   \n",
       "3        10000          10000         10000.0   36 months          13.49   \n",
       "4         3000           3000          3000.0   60 months          12.69   \n",
       "\n",
       "   installment grade sub_grade emp_length home_ownership        ...         \\\n",
       "0       162.87     B        B2  10+ years           RENT        ...          \n",
       "1        59.83     C        C4   < 1 year           RENT        ...          \n",
       "2        84.33     C        C5  10+ years           RENT        ...          \n",
       "3       339.31     C        C1  10+ years           RENT        ...          \n",
       "4        67.79     B        B5     1 year           RENT        ...          \n",
       "\n",
       "   application_type acc_now_delinq  year loan_condition    region  \\\n",
       "0        INDIVIDUAL            0.0  2011      Good Loan   munster   \n",
       "1        INDIVIDUAL            0.0  2011       Bad Loan  leinster   \n",
       "2        INDIVIDUAL            0.0  2011      Good Loan  cannught   \n",
       "3        INDIVIDUAL            0.0  2011      Good Loan    ulster   \n",
       "4        INDIVIDUAL            0.0  2011      Good Loan    ulster   \n",
       "\n",
       "  complete_date emp_length_int  income_category  loan_condition_int  \\\n",
       "0    01/12/2011           10.0              Low                   0   \n",
       "1    01/12/2011            0.5              Low                   1   \n",
       "2    01/12/2011           10.0              Low                   0   \n",
       "3    01/12/2011           10.0              Low                   0   \n",
       "4    01/12/2011            1.0              Low                   0   \n",
       "\n",
       "  interest_payments  \n",
       "0               Low  \n",
       "1              High  \n",
       "2              High  \n",
       "3              High  \n",
       "4               Low  \n",
       "\n",
       "[5 rows x 55 columns]"
      ]
     },
     "execution_count": 15,
     "metadata": {},
     "output_type": "execute_result"
    }
   ],
   "source": [
    "df.head()"
   ]
  },
  {
   "cell_type": "code",
   "execution_count": 16,
   "metadata": {},
   "outputs": [
    {
     "name": "stdout",
     "output_type": "stream",
     "text": [
      "<class 'pandas.core.frame.DataFrame'>\n",
      "Int64Index: 887379 entries, 0 to 887378\n",
      "Data columns (total 55 columns):\n",
      "loan_amount                   887379 non-null int64\n",
      "funded_amount                 887379 non-null int64\n",
      "investor_funds                887379 non-null float64\n",
      "term                          887379 non-null object\n",
      "interest_rate                 887379 non-null float64\n",
      "installment                   887379 non-null float64\n",
      "grade                         887379 non-null object\n",
      "sub_grade                     887379 non-null object\n",
      "emp_length                    842554 non-null object\n",
      "home_ownership                887379 non-null object\n",
      "annual_income                 887375 non-null float64\n",
      "verification_status           887379 non-null object\n",
      "issue_d                       887379 non-null object\n",
      "loan_status                   887379 non-null object\n",
      "pymnt_plan                    887379 non-null object\n",
      "purpose                       887379 non-null object\n",
      "addr_state                    887379 non-null object\n",
      "dti                           887379 non-null float64\n",
      "delinq_2yrs                   887350 non-null float64\n",
      "earliest_cr_line              887350 non-null object\n",
      "inq_last_6mths                887350 non-null float64\n",
      "mths_since_last_delinq        433067 non-null float64\n",
      "mths_since_last_record        137053 non-null float64\n",
      "open_acc                      887350 non-null float64\n",
      "pub_rec                       887350 non-null float64\n",
      "revol_bal                     887379 non-null int64\n",
      "revol_util                    886877 non-null float64\n",
      "total_acc                     887350 non-null float64\n",
      "initial_list_status           887379 non-null object\n",
      "out_prncp                     887379 non-null float64\n",
      "out_prncp_inv                 887379 non-null float64\n",
      "total_pymnt                   887379 non-null float64\n",
      "total_pymnt_inv               887379 non-null float64\n",
      "total_rec_prncp               887379 non-null float64\n",
      "total_rec_int                 887379 non-null float64\n",
      "total_rec_late_fee            887379 non-null float64\n",
      "recoveries                    887379 non-null float64\n",
      "collection_recovery_fee       887379 non-null float64\n",
      "last_pymnt_d                  869720 non-null object\n",
      "final_d                       869720 non-null object\n",
      "last_pymnt_amnt               887379 non-null float64\n",
      "next_pymnt_d                  634408 non-null object\n",
      "last_credit_pull_d            887326 non-null object\n",
      "collections_12_mths_ex_med    887234 non-null float64\n",
      "policy_code                   887379 non-null int64\n",
      "application_type              887379 non-null object\n",
      "acc_now_delinq                887350 non-null float64\n",
      "year                          887379 non-null int64\n",
      "loan_condition                887379 non-null object\n",
      "region                        887379 non-null object\n",
      "complete_date                 887379 non-null object\n",
      "emp_length_int                842554 non-null float64\n",
      "income_category               887375 non-null object\n",
      "loan_condition_int            887379 non-null int64\n",
      "interest_payments             887379 non-null object\n",
      "dtypes: float64(26), int64(6), object(23)\n",
      "memory usage: 379.1+ MB\n"
     ]
    }
   ],
   "source": [
    "df.info()"
   ]
  },
  {
   "cell_type": "markdown",
   "metadata": {},
   "source": [
    "## Data Munging"
   ]
  },
  {
   "cell_type": "markdown",
   "metadata": {},
   "source": [
    "- Missing Values\n",
    "- Rename columns\n",
    "- Data Transformation\n",
    "- Coding,en-coding,decoding\n",
    "- Outlier\n",
    "- Anamolies"
   ]
  },
  {
   "cell_type": "code",
   "execution_count": 17,
   "metadata": {},
   "outputs": [
    {
     "data": {
      "text/html": [
       "<div>\n",
       "<style scoped>\n",
       "    .dataframe tbody tr th:only-of-type {\n",
       "        vertical-align: middle;\n",
       "    }\n",
       "\n",
       "    .dataframe tbody tr th {\n",
       "        vertical-align: top;\n",
       "    }\n",
       "\n",
       "    .dataframe thead th {\n",
       "        text-align: right;\n",
       "    }\n",
       "</style>\n",
       "<table border=\"1\" class=\"dataframe\">\n",
       "  <thead>\n",
       "    <tr style=\"text-align: right;\">\n",
       "      <th></th>\n",
       "      <th>loan_amount</th>\n",
       "      <th>funded_amount</th>\n",
       "      <th>investor_funds</th>\n",
       "      <th>term</th>\n",
       "      <th>interest_rate</th>\n",
       "      <th>installment</th>\n",
       "      <th>grade</th>\n",
       "      <th>sub_grade</th>\n",
       "      <th>emp_length</th>\n",
       "      <th>home_ownership</th>\n",
       "      <th>...</th>\n",
       "      <th>application_type</th>\n",
       "      <th>acc_now_delinq</th>\n",
       "      <th>year</th>\n",
       "      <th>loan_condition</th>\n",
       "      <th>region</th>\n",
       "      <th>complete_date</th>\n",
       "      <th>emp_length_int</th>\n",
       "      <th>income_category</th>\n",
       "      <th>loan_condition_int</th>\n",
       "      <th>interest_payments</th>\n",
       "    </tr>\n",
       "  </thead>\n",
       "  <tbody>\n",
       "    <tr>\n",
       "      <th>0</th>\n",
       "      <td>False</td>\n",
       "      <td>False</td>\n",
       "      <td>False</td>\n",
       "      <td>False</td>\n",
       "      <td>False</td>\n",
       "      <td>False</td>\n",
       "      <td>False</td>\n",
       "      <td>False</td>\n",
       "      <td>False</td>\n",
       "      <td>False</td>\n",
       "      <td>...</td>\n",
       "      <td>False</td>\n",
       "      <td>False</td>\n",
       "      <td>False</td>\n",
       "      <td>False</td>\n",
       "      <td>False</td>\n",
       "      <td>False</td>\n",
       "      <td>False</td>\n",
       "      <td>False</td>\n",
       "      <td>False</td>\n",
       "      <td>False</td>\n",
       "    </tr>\n",
       "    <tr>\n",
       "      <th>1</th>\n",
       "      <td>False</td>\n",
       "      <td>False</td>\n",
       "      <td>False</td>\n",
       "      <td>False</td>\n",
       "      <td>False</td>\n",
       "      <td>False</td>\n",
       "      <td>False</td>\n",
       "      <td>False</td>\n",
       "      <td>False</td>\n",
       "      <td>False</td>\n",
       "      <td>...</td>\n",
       "      <td>False</td>\n",
       "      <td>False</td>\n",
       "      <td>False</td>\n",
       "      <td>False</td>\n",
       "      <td>False</td>\n",
       "      <td>False</td>\n",
       "      <td>False</td>\n",
       "      <td>False</td>\n",
       "      <td>False</td>\n",
       "      <td>False</td>\n",
       "    </tr>\n",
       "    <tr>\n",
       "      <th>2</th>\n",
       "      <td>False</td>\n",
       "      <td>False</td>\n",
       "      <td>False</td>\n",
       "      <td>False</td>\n",
       "      <td>False</td>\n",
       "      <td>False</td>\n",
       "      <td>False</td>\n",
       "      <td>False</td>\n",
       "      <td>False</td>\n",
       "      <td>False</td>\n",
       "      <td>...</td>\n",
       "      <td>False</td>\n",
       "      <td>False</td>\n",
       "      <td>False</td>\n",
       "      <td>False</td>\n",
       "      <td>False</td>\n",
       "      <td>False</td>\n",
       "      <td>False</td>\n",
       "      <td>False</td>\n",
       "      <td>False</td>\n",
       "      <td>False</td>\n",
       "    </tr>\n",
       "    <tr>\n",
       "      <th>3</th>\n",
       "      <td>False</td>\n",
       "      <td>False</td>\n",
       "      <td>False</td>\n",
       "      <td>False</td>\n",
       "      <td>False</td>\n",
       "      <td>False</td>\n",
       "      <td>False</td>\n",
       "      <td>False</td>\n",
       "      <td>False</td>\n",
       "      <td>False</td>\n",
       "      <td>...</td>\n",
       "      <td>False</td>\n",
       "      <td>False</td>\n",
       "      <td>False</td>\n",
       "      <td>False</td>\n",
       "      <td>False</td>\n",
       "      <td>False</td>\n",
       "      <td>False</td>\n",
       "      <td>False</td>\n",
       "      <td>False</td>\n",
       "      <td>False</td>\n",
       "    </tr>\n",
       "    <tr>\n",
       "      <th>4</th>\n",
       "      <td>False</td>\n",
       "      <td>False</td>\n",
       "      <td>False</td>\n",
       "      <td>False</td>\n",
       "      <td>False</td>\n",
       "      <td>False</td>\n",
       "      <td>False</td>\n",
       "      <td>False</td>\n",
       "      <td>False</td>\n",
       "      <td>False</td>\n",
       "      <td>...</td>\n",
       "      <td>False</td>\n",
       "      <td>False</td>\n",
       "      <td>False</td>\n",
       "      <td>False</td>\n",
       "      <td>False</td>\n",
       "      <td>False</td>\n",
       "      <td>False</td>\n",
       "      <td>False</td>\n",
       "      <td>False</td>\n",
       "      <td>False</td>\n",
       "    </tr>\n",
       "  </tbody>\n",
       "</table>\n",
       "<p>5 rows × 55 columns</p>\n",
       "</div>"
      ],
      "text/plain": [
       "   loan_amount  funded_amount  investor_funds   term  interest_rate  \\\n",
       "0        False          False           False  False          False   \n",
       "1        False          False           False  False          False   \n",
       "2        False          False           False  False          False   \n",
       "3        False          False           False  False          False   \n",
       "4        False          False           False  False          False   \n",
       "\n",
       "   installment  grade  sub_grade  emp_length  home_ownership  \\\n",
       "0        False  False      False       False           False   \n",
       "1        False  False      False       False           False   \n",
       "2        False  False      False       False           False   \n",
       "3        False  False      False       False           False   \n",
       "4        False  False      False       False           False   \n",
       "\n",
       "         ...          application_type  acc_now_delinq   year  loan_condition  \\\n",
       "0        ...                     False           False  False           False   \n",
       "1        ...                     False           False  False           False   \n",
       "2        ...                     False           False  False           False   \n",
       "3        ...                     False           False  False           False   \n",
       "4        ...                     False           False  False           False   \n",
       "\n",
       "   region  complete_date  emp_length_int  income_category  loan_condition_int  \\\n",
       "0   False          False           False            False               False   \n",
       "1   False          False           False            False               False   \n",
       "2   False          False           False            False               False   \n",
       "3   False          False           False            False               False   \n",
       "4   False          False           False            False               False   \n",
       "\n",
       "   interest_payments  \n",
       "0              False  \n",
       "1              False  \n",
       "2              False  \n",
       "3              False  \n",
       "4              False  \n",
       "\n",
       "[5 rows x 55 columns]"
      ]
     },
     "execution_count": 17,
     "metadata": {},
     "output_type": "execute_result"
    }
   ],
   "source": [
    "df.isnull().head()"
   ]
  },
  {
   "cell_type": "code",
   "execution_count": 18,
   "metadata": {},
   "outputs": [
    {
     "data": {
      "text/plain": [
       "loan_amount                        0\n",
       "funded_amount                      0\n",
       "investor_funds                     0\n",
       "term                               0\n",
       "interest_rate                      0\n",
       "installment                        0\n",
       "grade                              0\n",
       "sub_grade                          0\n",
       "emp_length                     44825\n",
       "home_ownership                     0\n",
       "annual_income                      4\n",
       "verification_status                0\n",
       "issue_d                            0\n",
       "loan_status                        0\n",
       "pymnt_plan                         0\n",
       "purpose                            0\n",
       "addr_state                         0\n",
       "dti                                0\n",
       "delinq_2yrs                       29\n",
       "earliest_cr_line                  29\n",
       "inq_last_6mths                    29\n",
       "mths_since_last_delinq        454312\n",
       "mths_since_last_record        750326\n",
       "open_acc                          29\n",
       "pub_rec                           29\n",
       "revol_bal                          0\n",
       "revol_util                       502\n",
       "total_acc                         29\n",
       "initial_list_status                0\n",
       "out_prncp                          0\n",
       "out_prncp_inv                      0\n",
       "total_pymnt                        0\n",
       "total_pymnt_inv                    0\n",
       "total_rec_prncp                    0\n",
       "total_rec_int                      0\n",
       "total_rec_late_fee                 0\n",
       "recoveries                         0\n",
       "collection_recovery_fee            0\n",
       "last_pymnt_d                   17659\n",
       "final_d                        17659\n",
       "last_pymnt_amnt                    0\n",
       "next_pymnt_d                  252971\n",
       "last_credit_pull_d                53\n",
       "collections_12_mths_ex_med       145\n",
       "policy_code                        0\n",
       "application_type                   0\n",
       "acc_now_delinq                    29\n",
       "year                               0\n",
       "loan_condition                     0\n",
       "region                             0\n",
       "complete_date                      0\n",
       "emp_length_int                 44825\n",
       "income_category                    4\n",
       "loan_condition_int                 0\n",
       "interest_payments                  0\n",
       "dtype: int64"
      ]
     },
     "execution_count": 18,
     "metadata": {},
     "output_type": "execute_result"
    }
   ],
   "source": [
    "df.isnull().sum()"
   ]
  },
  {
   "cell_type": "code",
   "execution_count": 19,
   "metadata": {},
   "outputs": [
    {
     "data": {
      "text/plain": [
       "6.050594383268016"
      ]
     },
     "execution_count": 19,
     "metadata": {},
     "output_type": "execute_result"
    }
   ],
   "source": [
    "df.emp_length_int.mean()"
   ]
  },
  {
   "cell_type": "markdown",
   "metadata": {},
   "source": [
    "- Filling Null values with mean values"
   ]
  },
  {
   "cell_type": "code",
   "execution_count": 20,
   "metadata": {},
   "outputs": [],
   "source": [
    "# fill in missing values with a specified value\n",
    "df['emp_length_int'].fillna(value='6.05', inplace=True)"
   ]
  },
  {
   "cell_type": "code",
   "execution_count": 21,
   "metadata": {},
   "outputs": [
    {
     "data": {
      "text/plain": [
       "loan_amount                        0\n",
       "funded_amount                      0\n",
       "investor_funds                     0\n",
       "term                               0\n",
       "interest_rate                      0\n",
       "installment                        0\n",
       "grade                              0\n",
       "sub_grade                          0\n",
       "emp_length                     44825\n",
       "home_ownership                     0\n",
       "annual_income                      4\n",
       "verification_status                0\n",
       "issue_d                            0\n",
       "loan_status                        0\n",
       "pymnt_plan                         0\n",
       "purpose                            0\n",
       "addr_state                         0\n",
       "dti                                0\n",
       "delinq_2yrs                       29\n",
       "earliest_cr_line                  29\n",
       "inq_last_6mths                    29\n",
       "mths_since_last_delinq        454312\n",
       "mths_since_last_record        750326\n",
       "open_acc                          29\n",
       "pub_rec                           29\n",
       "revol_bal                          0\n",
       "revol_util                       502\n",
       "total_acc                         29\n",
       "initial_list_status                0\n",
       "out_prncp                          0\n",
       "out_prncp_inv                      0\n",
       "total_pymnt                        0\n",
       "total_pymnt_inv                    0\n",
       "total_rec_prncp                    0\n",
       "total_rec_int                      0\n",
       "total_rec_late_fee                 0\n",
       "recoveries                         0\n",
       "collection_recovery_fee            0\n",
       "last_pymnt_d                   17659\n",
       "final_d                        17659\n",
       "last_pymnt_amnt                    0\n",
       "next_pymnt_d                  252971\n",
       "last_credit_pull_d                53\n",
       "collections_12_mths_ex_med       145\n",
       "policy_code                        0\n",
       "application_type                   0\n",
       "acc_now_delinq                    29\n",
       "year                               0\n",
       "loan_condition                     0\n",
       "region                             0\n",
       "complete_date                      0\n",
       "emp_length_int                     0\n",
       "income_category                    4\n",
       "loan_condition_int                 0\n",
       "interest_payments                  0\n",
       "dtype: int64"
      ]
     },
     "execution_count": 21,
     "metadata": {},
     "output_type": "execute_result"
    }
   ],
   "source": [
    "df.isnull().sum()"
   ]
  },
  {
   "cell_type": "code",
   "execution_count": 22,
   "metadata": {},
   "outputs": [
    {
     "data": {
      "text/plain": [
       "0.31444187750042263"
      ]
     },
     "execution_count": 22,
     "metadata": {},
     "output_type": "execute_result"
    }
   ],
   "source": [
    "df.delinq_2yrs.mean()"
   ]
  },
  {
   "cell_type": "code",
   "execution_count": 23,
   "metadata": {},
   "outputs": [],
   "source": [
    "# fill in missing values with a specified value\n",
    "df['delinq_2yrs'].fillna(value='0.314', inplace=True)"
   ]
  },
  {
   "cell_type": "code",
   "execution_count": 24,
   "metadata": {},
   "outputs": [],
   "source": [
    "df.drop('emp_length', axis=1, inplace=True)"
   ]
  },
  {
   "cell_type": "code",
   "execution_count": 25,
   "metadata": {},
   "outputs": [
    {
     "data": {
      "text/plain": [
       "loan_amount                        0\n",
       "funded_amount                      0\n",
       "investor_funds                     0\n",
       "term                               0\n",
       "interest_rate                      0\n",
       "installment                        0\n",
       "grade                              0\n",
       "sub_grade                          0\n",
       "home_ownership                     0\n",
       "annual_income                      4\n",
       "verification_status                0\n",
       "issue_d                            0\n",
       "loan_status                        0\n",
       "pymnt_plan                         0\n",
       "purpose                            0\n",
       "addr_state                         0\n",
       "dti                                0\n",
       "delinq_2yrs                        0\n",
       "earliest_cr_line                  29\n",
       "inq_last_6mths                    29\n",
       "mths_since_last_delinq        454312\n",
       "mths_since_last_record        750326\n",
       "open_acc                          29\n",
       "pub_rec                           29\n",
       "revol_bal                          0\n",
       "revol_util                       502\n",
       "total_acc                         29\n",
       "initial_list_status                0\n",
       "out_prncp                          0\n",
       "out_prncp_inv                      0\n",
       "total_pymnt                        0\n",
       "total_pymnt_inv                    0\n",
       "total_rec_prncp                    0\n",
       "total_rec_int                      0\n",
       "total_rec_late_fee                 0\n",
       "recoveries                         0\n",
       "collection_recovery_fee            0\n",
       "last_pymnt_d                   17659\n",
       "final_d                        17659\n",
       "last_pymnt_amnt                    0\n",
       "next_pymnt_d                  252971\n",
       "last_credit_pull_d                53\n",
       "collections_12_mths_ex_med       145\n",
       "policy_code                        0\n",
       "application_type                   0\n",
       "acc_now_delinq                    29\n",
       "year                               0\n",
       "loan_condition                     0\n",
       "region                             0\n",
       "complete_date                      0\n",
       "emp_length_int                     0\n",
       "income_category                    4\n",
       "loan_condition_int                 0\n",
       "interest_payments                  0\n",
       "dtype: int64"
      ]
     },
     "execution_count": 25,
     "metadata": {},
     "output_type": "execute_result"
    }
   ],
   "source": [
    "df.isnull().sum()"
   ]
  },
  {
   "cell_type": "raw",
   "metadata": {},
   "source": [
    "df.drop('earliest_cr_line', axis=1, inplace=True)\n",
    "df.drop('mths_since_last_delinq', axis=1, inplace=True)\n",
    "df.drop('mths_since_last_record', axis=1, inplace=True)\n",
    "df.drop('last_pymnt_d', axis=1, inplace=True)\n",
    "df.drop('mths_since_last_record', axis=1, inplace=True)"
   ]
  },
  {
   "cell_type": "code",
   "execution_count": 28,
   "metadata": {},
   "outputs": [
    {
     "data": {
      "text/plain": [
       "loan_amount                        0\n",
       "funded_amount                      0\n",
       "investor_funds                     0\n",
       "term                               0\n",
       "interest_rate                      0\n",
       "installment                        0\n",
       "grade                              0\n",
       "sub_grade                          0\n",
       "home_ownership                     0\n",
       "annual_income                      4\n",
       "verification_status                0\n",
       "issue_d                            0\n",
       "loan_status                        0\n",
       "pymnt_plan                         0\n",
       "purpose                            0\n",
       "addr_state                         0\n",
       "dti                                0\n",
       "delinq_2yrs                        0\n",
       "inq_last_6mths                    29\n",
       "open_acc                          29\n",
       "pub_rec                           29\n",
       "revol_bal                          0\n",
       "revol_util                       502\n",
       "total_acc                         29\n",
       "initial_list_status                0\n",
       "out_prncp                          0\n",
       "out_prncp_inv                      0\n",
       "total_pymnt                        0\n",
       "total_pymnt_inv                    0\n",
       "total_rec_prncp                    0\n",
       "total_rec_int                      0\n",
       "total_rec_late_fee                 0\n",
       "recoveries                         0\n",
       "collection_recovery_fee            0\n",
       "final_d                        17659\n",
       "last_pymnt_amnt                    0\n",
       "next_pymnt_d                  252971\n",
       "last_credit_pull_d                53\n",
       "collections_12_mths_ex_med       145\n",
       "policy_code                        0\n",
       "application_type                   0\n",
       "acc_now_delinq                    29\n",
       "year                               0\n",
       "loan_condition                     0\n",
       "region                             0\n",
       "complete_date                      0\n",
       "emp_length_int                     0\n",
       "income_category                    4\n",
       "loan_condition_int                 0\n",
       "interest_payments                  0\n",
       "dtype: int64"
      ]
     },
     "execution_count": 28,
     "metadata": {},
     "output_type": "execute_result"
    }
   ],
   "source": [
    "df.isnull().sum()"
   ]
  },
  {
   "cell_type": "code",
   "execution_count": 29,
   "metadata": {},
   "outputs": [],
   "source": [
    "df.drop('inq_last_6mths', axis=1, inplace=True)"
   ]
  },
  {
   "cell_type": "code",
   "execution_count": 30,
   "metadata": {},
   "outputs": [
    {
     "data": {
      "text/plain": [
       "loan_amount                        0\n",
       "funded_amount                      0\n",
       "investor_funds                     0\n",
       "term                               0\n",
       "interest_rate                      0\n",
       "installment                        0\n",
       "grade                              0\n",
       "sub_grade                          0\n",
       "home_ownership                     0\n",
       "annual_income                      4\n",
       "verification_status                0\n",
       "issue_d                            0\n",
       "loan_status                        0\n",
       "pymnt_plan                         0\n",
       "purpose                            0\n",
       "addr_state                         0\n",
       "dti                                0\n",
       "delinq_2yrs                        0\n",
       "open_acc                          29\n",
       "pub_rec                           29\n",
       "revol_bal                          0\n",
       "revol_util                       502\n",
       "total_acc                         29\n",
       "initial_list_status                0\n",
       "out_prncp                          0\n",
       "out_prncp_inv                      0\n",
       "total_pymnt                        0\n",
       "total_pymnt_inv                    0\n",
       "total_rec_prncp                    0\n",
       "total_rec_int                      0\n",
       "total_rec_late_fee                 0\n",
       "recoveries                         0\n",
       "collection_recovery_fee            0\n",
       "final_d                        17659\n",
       "last_pymnt_amnt                    0\n",
       "next_pymnt_d                  252971\n",
       "last_credit_pull_d                53\n",
       "collections_12_mths_ex_med       145\n",
       "policy_code                        0\n",
       "application_type                   0\n",
       "acc_now_delinq                    29\n",
       "year                               0\n",
       "loan_condition                     0\n",
       "region                             0\n",
       "complete_date                      0\n",
       "emp_length_int                     0\n",
       "income_category                    4\n",
       "loan_condition_int                 0\n",
       "interest_payments                  0\n",
       "dtype: int64"
      ]
     },
     "execution_count": 30,
     "metadata": {},
     "output_type": "execute_result"
    }
   ],
   "source": [
    "df.isnull().sum()"
   ]
  },
  {
   "cell_type": "code",
   "execution_count": 31,
   "metadata": {},
   "outputs": [
    {
     "data": {
      "text/plain": [
       "75027.58776076681"
      ]
     },
     "execution_count": 31,
     "metadata": {},
     "output_type": "execute_result"
    }
   ],
   "source": [
    "df.annual_income.mean()"
   ]
  },
  {
   "cell_type": "code",
   "execution_count": 32,
   "metadata": {},
   "outputs": [],
   "source": [
    "# fill in missing values with a specified value\n",
    "df['annual_income'].fillna(value='75027.58', inplace=True)"
   ]
  },
  {
   "cell_type": "code",
   "execution_count": 33,
   "metadata": {},
   "outputs": [
    {
     "data": {
      "text/plain": [
       "loan_amount                        0\n",
       "funded_amount                      0\n",
       "investor_funds                     0\n",
       "term                               0\n",
       "interest_rate                      0\n",
       "installment                        0\n",
       "grade                              0\n",
       "sub_grade                          0\n",
       "home_ownership                     0\n",
       "annual_income                      0\n",
       "verification_status                0\n",
       "issue_d                            0\n",
       "loan_status                        0\n",
       "pymnt_plan                         0\n",
       "purpose                            0\n",
       "addr_state                         0\n",
       "dti                                0\n",
       "delinq_2yrs                        0\n",
       "open_acc                          29\n",
       "pub_rec                           29\n",
       "revol_bal                          0\n",
       "revol_util                       502\n",
       "total_acc                         29\n",
       "initial_list_status                0\n",
       "out_prncp                          0\n",
       "out_prncp_inv                      0\n",
       "total_pymnt                        0\n",
       "total_pymnt_inv                    0\n",
       "total_rec_prncp                    0\n",
       "total_rec_int                      0\n",
       "total_rec_late_fee                 0\n",
       "recoveries                         0\n",
       "collection_recovery_fee            0\n",
       "final_d                        17659\n",
       "last_pymnt_amnt                    0\n",
       "next_pymnt_d                  252971\n",
       "last_credit_pull_d                53\n",
       "collections_12_mths_ex_med       145\n",
       "policy_code                        0\n",
       "application_type                   0\n",
       "acc_now_delinq                    29\n",
       "year                               0\n",
       "loan_condition                     0\n",
       "region                             0\n",
       "complete_date                      0\n",
       "emp_length_int                     0\n",
       "income_category                    4\n",
       "loan_condition_int                 0\n",
       "interest_payments                  0\n",
       "dtype: int64"
      ]
     },
     "execution_count": 33,
     "metadata": {},
     "output_type": "execute_result"
    }
   ],
   "source": [
    "df.isnull().sum()"
   ]
  },
  {
   "cell_type": "code",
   "execution_count": 34,
   "metadata": {},
   "outputs": [
    {
     "data": {
      "text/plain": [
       "11.548469037020341"
      ]
     },
     "execution_count": 34,
     "metadata": {},
     "output_type": "execute_result"
    }
   ],
   "source": [
    "df.open_acc.mean()"
   ]
  },
  {
   "cell_type": "code",
   "execution_count": 35,
   "metadata": {},
   "outputs": [],
   "source": [
    "# fill in missing values with a specified value\n",
    "df['open_acc'].fillna(value='11.55', inplace=True)"
   ]
  },
  {
   "cell_type": "code",
   "execution_count": 36,
   "metadata": {},
   "outputs": [
    {
     "data": {
      "text/plain": [
       "0.19530737589451738"
      ]
     },
     "execution_count": 36,
     "metadata": {},
     "output_type": "execute_result"
    }
   ],
   "source": [
    "df.pub_rec.mean()"
   ]
  },
  {
   "cell_type": "code",
   "execution_count": 37,
   "metadata": {},
   "outputs": [],
   "source": [
    "# fill in missing values with a specified value\n",
    "df['pub_rec'].fillna(value='0.19', inplace=True)"
   ]
  },
  {
   "cell_type": "code",
   "execution_count": 38,
   "metadata": {},
   "outputs": [
    {
     "data": {
      "text/plain": [
       "55.0676932314199"
      ]
     },
     "execution_count": 38,
     "metadata": {},
     "output_type": "execute_result"
    }
   ],
   "source": [
    "df.revol_util.mean()"
   ]
  },
  {
   "cell_type": "code",
   "execution_count": 39,
   "metadata": {},
   "outputs": [],
   "source": [
    "# fill in missing values with a specified value\n",
    "df['revol_util'].fillna(value='55.06', inplace=True)"
   ]
  },
  {
   "cell_type": "code",
   "execution_count": 40,
   "metadata": {},
   "outputs": [
    {
     "data": {
      "text/plain": [
       "25.26802614526399"
      ]
     },
     "execution_count": 40,
     "metadata": {},
     "output_type": "execute_result"
    }
   ],
   "source": [
    "df.total_acc.mean()"
   ]
  },
  {
   "cell_type": "code",
   "execution_count": 41,
   "metadata": {},
   "outputs": [],
   "source": [
    "# fill in missing values with a specified value\n",
    "df['total_acc'].fillna(value='25.26', inplace=True)"
   ]
  },
  {
   "cell_type": "code",
   "execution_count": 42,
   "metadata": {},
   "outputs": [
    {
     "data": {
      "text/plain": [
       "loan_amount                        0\n",
       "funded_amount                      0\n",
       "investor_funds                     0\n",
       "term                               0\n",
       "interest_rate                      0\n",
       "installment                        0\n",
       "grade                              0\n",
       "sub_grade                          0\n",
       "home_ownership                     0\n",
       "annual_income                      0\n",
       "verification_status                0\n",
       "issue_d                            0\n",
       "loan_status                        0\n",
       "pymnt_plan                         0\n",
       "purpose                            0\n",
       "addr_state                         0\n",
       "dti                                0\n",
       "delinq_2yrs                        0\n",
       "open_acc                           0\n",
       "pub_rec                            0\n",
       "revol_bal                          0\n",
       "revol_util                         0\n",
       "total_acc                          0\n",
       "initial_list_status                0\n",
       "out_prncp                          0\n",
       "out_prncp_inv                      0\n",
       "total_pymnt                        0\n",
       "total_pymnt_inv                    0\n",
       "total_rec_prncp                    0\n",
       "total_rec_int                      0\n",
       "total_rec_late_fee                 0\n",
       "recoveries                         0\n",
       "collection_recovery_fee            0\n",
       "final_d                        17659\n",
       "last_pymnt_amnt                    0\n",
       "next_pymnt_d                  252971\n",
       "last_credit_pull_d                53\n",
       "collections_12_mths_ex_med       145\n",
       "policy_code                        0\n",
       "application_type                   0\n",
       "acc_now_delinq                    29\n",
       "year                               0\n",
       "loan_condition                     0\n",
       "region                             0\n",
       "complete_date                      0\n",
       "emp_length_int                     0\n",
       "income_category                    4\n",
       "loan_condition_int                 0\n",
       "interest_payments                  0\n",
       "dtype: int64"
      ]
     },
     "execution_count": 42,
     "metadata": {},
     "output_type": "execute_result"
    }
   ],
   "source": [
    "df.isnull().sum()"
   ]
  },
  {
   "cell_type": "code",
   "execution_count": 43,
   "metadata": {},
   "outputs": [
    {
     "data": {
      "text/plain": [
       "0.014379521073358326"
      ]
     },
     "execution_count": 43,
     "metadata": {},
     "output_type": "execute_result"
    }
   ],
   "source": [
    "df.collections_12_mths_ex_med.mean()"
   ]
  },
  {
   "cell_type": "code",
   "execution_count": 44,
   "metadata": {},
   "outputs": [],
   "source": [
    "# fill in missing values with a specified value\n",
    "df['collections_12_mths_ex_med'].fillna(value='0.014', inplace=True)"
   ]
  },
  {
   "cell_type": "code",
   "execution_count": 45,
   "metadata": {},
   "outputs": [
    {
     "data": {
      "text/plain": [
       "0    0.0\n",
       "1    0.0\n",
       "2    0.0\n",
       "3    0.0\n",
       "4    0.0\n",
       "5    0.0\n",
       "6    0.0\n",
       "7    0.0\n",
       "8    0.0\n",
       "9    0.0\n",
       "Name: acc_now_delinq, dtype: float64"
      ]
     },
     "execution_count": 45,
     "metadata": {},
     "output_type": "execute_result"
    }
   ],
   "source": [
    "df.acc_now_delinq.head(10)"
   ]
  },
  {
   "cell_type": "code",
   "execution_count": 46,
   "metadata": {},
   "outputs": [
    {
     "data": {
      "text/plain": [
       "0.004991266129486673"
      ]
     },
     "execution_count": 46,
     "metadata": {},
     "output_type": "execute_result"
    }
   ],
   "source": [
    "df.acc_now_delinq.mean()"
   ]
  },
  {
   "cell_type": "code",
   "execution_count": 47,
   "metadata": {},
   "outputs": [],
   "source": [
    "# fill in missing values with a specified value\n",
    "df['acc_now_delinq'].fillna(value='0.00', inplace=True)"
   ]
  },
  {
   "cell_type": "code",
   "execution_count": 51,
   "metadata": {},
   "outputs": [],
   "source": [
    "df['final_d'] = pd.to_numeric(df.final_d.str.replace('/',''))"
   ]
  },
  {
   "cell_type": "code",
   "execution_count": 52,
   "metadata": {},
   "outputs": [
    {
     "data": {
      "text/plain": [
       "0    1012015.0\n",
       "1    1042013.0\n",
       "2    1062014.0\n",
       "3    1012015.0\n",
       "4    1012016.0\n",
       "5    1012015.0\n",
       "6    1012016.0\n",
       "7    1012015.0\n",
       "8    1042012.0\n",
       "9    1112012.0\n",
       "Name: final_d, dtype: float64"
      ]
     },
     "execution_count": 52,
     "metadata": {},
     "output_type": "execute_result"
    }
   ],
   "source": [
    "df.final_d.head(10)"
   ]
  },
  {
   "cell_type": "code",
   "execution_count": 54,
   "metadata": {},
   "outputs": [
    {
     "data": {
      "text/plain": [
       "1012016.0"
      ]
     },
     "execution_count": 54,
     "metadata": {},
     "output_type": "execute_result"
    }
   ],
   "source": [
    "df.final_d.median()"
   ]
  },
  {
   "cell_type": "code",
   "execution_count": 55,
   "metadata": {},
   "outputs": [],
   "source": [
    "# fill in missing values with a specified value\n",
    "df['final_d'].fillna(value='1012016', inplace=True)"
   ]
  },
  {
   "cell_type": "code",
   "execution_count": 56,
   "metadata": {},
   "outputs": [],
   "source": [
    "df['next_pymnt_d'] = pd.to_numeric(df.next_pymnt_d.str.replace('/',''))"
   ]
  },
  {
   "cell_type": "code",
   "execution_count": 57,
   "metadata": {},
   "outputs": [
    {
     "data": {
      "text/plain": [
       "1022016.0"
      ]
     },
     "execution_count": 57,
     "metadata": {},
     "output_type": "execute_result"
    }
   ],
   "source": [
    "df.next_pymnt_d.median()"
   ]
  },
  {
   "cell_type": "code",
   "execution_count": 58,
   "metadata": {},
   "outputs": [],
   "source": [
    "# fill in missing values with a specified value\n",
    "df['next_pymnt_d'].fillna(value='1022016', inplace=True)"
   ]
  },
  {
   "cell_type": "code",
   "execution_count": 59,
   "metadata": {},
   "outputs": [
    {
     "data": {
      "text/plain": [
       "loan_amount                    0\n",
       "funded_amount                  0\n",
       "investor_funds                 0\n",
       "term                           0\n",
       "interest_rate                  0\n",
       "installment                    0\n",
       "grade                          0\n",
       "sub_grade                      0\n",
       "home_ownership                 0\n",
       "annual_income                  0\n",
       "verification_status            0\n",
       "issue_d                        0\n",
       "loan_status                    0\n",
       "pymnt_plan                     0\n",
       "purpose                        0\n",
       "addr_state                     0\n",
       "dti                            0\n",
       "delinq_2yrs                    0\n",
       "open_acc                       0\n",
       "pub_rec                        0\n",
       "revol_bal                      0\n",
       "revol_util                     0\n",
       "total_acc                      0\n",
       "initial_list_status            0\n",
       "out_prncp                      0\n",
       "out_prncp_inv                  0\n",
       "total_pymnt                    0\n",
       "total_pymnt_inv                0\n",
       "total_rec_prncp                0\n",
       "total_rec_int                  0\n",
       "total_rec_late_fee             0\n",
       "recoveries                     0\n",
       "collection_recovery_fee        0\n",
       "final_d                        0\n",
       "last_pymnt_amnt                0\n",
       "next_pymnt_d                   0\n",
       "last_credit_pull_d            53\n",
       "collections_12_mths_ex_med     0\n",
       "policy_code                    0\n",
       "application_type               0\n",
       "acc_now_delinq                 0\n",
       "year                           0\n",
       "loan_condition                 0\n",
       "region                         0\n",
       "complete_date                  0\n",
       "emp_length_int                 0\n",
       "income_category                4\n",
       "loan_condition_int             0\n",
       "interest_payments              0\n",
       "dtype: int64"
      ]
     },
     "execution_count": 59,
     "metadata": {},
     "output_type": "execute_result"
    }
   ],
   "source": [
    "df.isnull().sum()"
   ]
  },
  {
   "cell_type": "code",
   "execution_count": 60,
   "metadata": {},
   "outputs": [],
   "source": [
    "df['last_credit_pull_d'] = pd.to_numeric(df.last_credit_pull_d.str.replace('/',''))"
   ]
  },
  {
   "cell_type": "code",
   "execution_count": 61,
   "metadata": {},
   "outputs": [
    {
     "data": {
      "text/plain": [
       "1012016.0"
      ]
     },
     "execution_count": 61,
     "metadata": {},
     "output_type": "execute_result"
    }
   ],
   "source": [
    "df.last_credit_pull_d.median()"
   ]
  },
  {
   "cell_type": "code",
   "execution_count": 62,
   "metadata": {},
   "outputs": [],
   "source": [
    "# fill in missing values with a specified value\n",
    "df['last_credit_pull_d'].fillna(value='1012016', inplace=True)"
   ]
  },
  {
   "cell_type": "code",
   "execution_count": 63,
   "metadata": {},
   "outputs": [
    {
     "data": {
      "text/plain": [
       "loan_amount                   0\n",
       "funded_amount                 0\n",
       "investor_funds                0\n",
       "term                          0\n",
       "interest_rate                 0\n",
       "installment                   0\n",
       "grade                         0\n",
       "sub_grade                     0\n",
       "home_ownership                0\n",
       "annual_income                 0\n",
       "verification_status           0\n",
       "issue_d                       0\n",
       "loan_status                   0\n",
       "pymnt_plan                    0\n",
       "purpose                       0\n",
       "addr_state                    0\n",
       "dti                           0\n",
       "delinq_2yrs                   0\n",
       "open_acc                      0\n",
       "pub_rec                       0\n",
       "revol_bal                     0\n",
       "revol_util                    0\n",
       "total_acc                     0\n",
       "initial_list_status           0\n",
       "out_prncp                     0\n",
       "out_prncp_inv                 0\n",
       "total_pymnt                   0\n",
       "total_pymnt_inv               0\n",
       "total_rec_prncp               0\n",
       "total_rec_int                 0\n",
       "total_rec_late_fee            0\n",
       "recoveries                    0\n",
       "collection_recovery_fee       0\n",
       "final_d                       0\n",
       "last_pymnt_amnt               0\n",
       "next_pymnt_d                  0\n",
       "last_credit_pull_d            0\n",
       "collections_12_mths_ex_med    0\n",
       "policy_code                   0\n",
       "application_type              0\n",
       "acc_now_delinq                0\n",
       "year                          0\n",
       "loan_condition                0\n",
       "region                        0\n",
       "complete_date                 0\n",
       "emp_length_int                0\n",
       "income_category               4\n",
       "loan_condition_int            0\n",
       "interest_payments             0\n",
       "dtype: int64"
      ]
     },
     "execution_count": 63,
     "metadata": {},
     "output_type": "execute_result"
    }
   ],
   "source": [
    "df.isnull().sum()"
   ]
  },
  {
   "cell_type": "code",
   "execution_count": 64,
   "metadata": {},
   "outputs": [
    {
     "data": {
      "text/plain": [
       "array(['Low', 'Medium', 'High', nan], dtype=object)"
      ]
     },
     "execution_count": 64,
     "metadata": {},
     "output_type": "execute_result"
    }
   ],
   "source": [
    "df.income_category.unique()"
   ]
  },
  {
   "cell_type": "code",
   "execution_count": 65,
   "metadata": {},
   "outputs": [],
   "source": [
    "# fill in missing values with a specified value\n",
    "df['income_category'].fillna(value='Low', inplace=True)"
   ]
  },
  {
   "cell_type": "code",
   "execution_count": 66,
   "metadata": {},
   "outputs": [
    {
     "data": {
      "text/plain": [
       "loan_amount                   0\n",
       "funded_amount                 0\n",
       "investor_funds                0\n",
       "term                          0\n",
       "interest_rate                 0\n",
       "installment                   0\n",
       "grade                         0\n",
       "sub_grade                     0\n",
       "home_ownership                0\n",
       "annual_income                 0\n",
       "verification_status           0\n",
       "issue_d                       0\n",
       "loan_status                   0\n",
       "pymnt_plan                    0\n",
       "purpose                       0\n",
       "addr_state                    0\n",
       "dti                           0\n",
       "delinq_2yrs                   0\n",
       "open_acc                      0\n",
       "pub_rec                       0\n",
       "revol_bal                     0\n",
       "revol_util                    0\n",
       "total_acc                     0\n",
       "initial_list_status           0\n",
       "out_prncp                     0\n",
       "out_prncp_inv                 0\n",
       "total_pymnt                   0\n",
       "total_pymnt_inv               0\n",
       "total_rec_prncp               0\n",
       "total_rec_int                 0\n",
       "total_rec_late_fee            0\n",
       "recoveries                    0\n",
       "collection_recovery_fee       0\n",
       "final_d                       0\n",
       "last_pymnt_amnt               0\n",
       "next_pymnt_d                  0\n",
       "last_credit_pull_d            0\n",
       "collections_12_mths_ex_med    0\n",
       "policy_code                   0\n",
       "application_type              0\n",
       "acc_now_delinq                0\n",
       "year                          0\n",
       "loan_condition                0\n",
       "region                        0\n",
       "complete_date                 0\n",
       "emp_length_int                0\n",
       "income_category               0\n",
       "loan_condition_int            0\n",
       "interest_payments             0\n",
       "dtype: int64"
      ]
     },
     "execution_count": 66,
     "metadata": {},
     "output_type": "execute_result"
    }
   ],
   "source": [
    "df.isnull().sum()"
   ]
  },
  {
   "cell_type": "code",
   "execution_count": 67,
   "metadata": {},
   "outputs": [],
   "source": [
    "# create the 'income_cat' dummy variable using the 'map' method\n",
    "df['income_cat'] = df.income_category.map({'Low':1, 'Medium':2, 'High':3})"
   ]
  },
  {
   "cell_type": "code",
   "execution_count": 69,
   "metadata": {},
   "outputs": [
    {
     "data": {
      "text/plain": [
       "1.1967017475058572"
      ]
     },
     "execution_count": 69,
     "metadata": {},
     "output_type": "execute_result"
    }
   ],
   "source": [
    "df.income_cat.mean()"
   ]
  },
  {
   "cell_type": "code",
   "execution_count": 70,
   "metadata": {},
   "outputs": [
    {
     "data": {
      "text/plain": [
       "array(['Low', 'High'], dtype=object)"
      ]
     },
     "execution_count": 70,
     "metadata": {},
     "output_type": "execute_result"
    }
   ],
   "source": [
    "df.interest_payments.unique()"
   ]
  },
  {
   "cell_type": "code",
   "execution_count": 71,
   "metadata": {},
   "outputs": [],
   "source": [
    "# create the 'interest_payments' dummy variable using the 'map' method\n",
    "df['interest_payment_cat'] = df.interest_payments.map({'Low':1, 'High':2})"
   ]
  },
  {
   "cell_type": "code",
   "execution_count": 72,
   "metadata": {},
   "outputs": [
    {
     "data": {
      "text/plain": [
       "array(['Good Loan', 'Bad Loan'], dtype=object)"
      ]
     },
     "execution_count": 72,
     "metadata": {},
     "output_type": "execute_result"
    }
   ],
   "source": [
    "df.loan_condition.unique()"
   ]
  },
  {
   "cell_type": "code",
   "execution_count": 73,
   "metadata": {},
   "outputs": [],
   "source": [
    "# create the 'loan_condition' dummy variable using the 'map' method\n",
    "df['loan_condition_cat'] = df.loan_condition.map({'Good Loan':0, 'Bad Loan':1})"
   ]
  },
  {
   "cell_type": "code",
   "execution_count": 74,
   "metadata": {},
   "outputs": [
    {
     "data": {
      "text/plain": [
       "array(['INDIVIDUAL', 'JOINT'], dtype=object)"
      ]
     },
     "execution_count": 74,
     "metadata": {},
     "output_type": "execute_result"
    }
   ],
   "source": [
    "df.application_type.unique()"
   ]
  },
  {
   "cell_type": "code",
   "execution_count": 75,
   "metadata": {},
   "outputs": [],
   "source": [
    "# create the 'application_type' dummy variable using the 'map' method\n",
    "df['application_type_cat'] = df.application_type.map({'INDIVIDUAL':1, 'JOINT':2})"
   ]
  },
  {
   "cell_type": "code",
   "execution_count": 113,
   "metadata": {},
   "outputs": [
    {
     "data": {
      "text/plain": [
       "0         False\n",
       "1         False\n",
       "2         False\n",
       "3         False\n",
       "4         False\n",
       "5         False\n",
       "6         False\n",
       "7         False\n",
       "8         False\n",
       "9         False\n",
       "10        False\n",
       "11        False\n",
       "12        False\n",
       "13        False\n",
       "14        False\n",
       "15        False\n",
       "16        False\n",
       "17        False\n",
       "18        False\n",
       "19        False\n",
       "20        False\n",
       "21        False\n",
       "22        False\n",
       "23        False\n",
       "24        False\n",
       "25        False\n",
       "26        False\n",
       "27        False\n",
       "28        False\n",
       "29        False\n",
       "          ...  \n",
       "887349    False\n",
       "887350    False\n",
       "887351    False\n",
       "887352    False\n",
       "887353    False\n",
       "887354    False\n",
       "887355    False\n",
       "887356    False\n",
       "887357    False\n",
       "887358    False\n",
       "887359    False\n",
       "887360    False\n",
       "887361    False\n",
       "887362    False\n",
       "887363    False\n",
       "887364    False\n",
       "887365    False\n",
       "887366    False\n",
       "887367    False\n",
       "887368    False\n",
       "887369    False\n",
       "887370    False\n",
       "887371    False\n",
       "887372    False\n",
       "887373    False\n",
       "887374    False\n",
       "887375    False\n",
       "887376    False\n",
       "887377    False\n",
       "887378    False\n",
       "Name: purpose, Length: 887379, dtype: bool"
      ]
     },
     "execution_count": 113,
     "metadata": {},
     "output_type": "execute_result"
    }
   ],
   "source": [
    "df.purpose.isnull()"
   ]
  },
  {
   "cell_type": "code",
   "execution_count": 78,
   "metadata": {},
   "outputs": [
    {
     "data": {
      "text/plain": [
       "array(['Fully Paid', 'Charged Off', 'Current', 'Default',\n",
       "       'Late (31-120 days)', 'In Grace Period', 'Late (16-30 days)',\n",
       "       'Does not meet the credit policy. Status:Fully Paid',\n",
       "       'Does not meet the credit policy. Status:Charged Off', 'Issued'],\n",
       "      dtype=object)"
      ]
     },
     "execution_count": 78,
     "metadata": {},
     "output_type": "execute_result"
    }
   ],
   "source": [
    "df.loan_status.unique()"
   ]
  },
  {
   "cell_type": "code",
   "execution_count": 134,
   "metadata": {},
   "outputs": [],
   "source": [
    "# create the 'verification_status' dummy variable using the 'map' method\n",
    "df['loan_status_cat'] = df.loan_status.map({'Fully Paid':1, \n",
    "                                            'Charged Off':2, \n",
    "                                            'Current':3,\n",
    "                                           'Default':4, \n",
    "                                            'Late (31-120 days)':5, \n",
    "                                            'In Grace Period':6,\n",
    "                                           'Late (16-30 days)':7, \n",
    "                                            'Does not meet the credit policy. Status:Fully Paid':8, \n",
    "                                            'Does not meet the credit policy. Status:Charged Off':9,\n",
    "                                           'Issued':10})"
   ]
  },
  {
   "cell_type": "code",
   "execution_count": 143,
   "metadata": {},
   "outputs": [
    {
     "data": {
      "text/plain": [
       "loan_amount                   0\n",
       "funded_amount                 0\n",
       "investor_funds                0\n",
       "term                          0\n",
       "interest_rate                 0\n",
       "installment                   0\n",
       "grade                         0\n",
       "sub_grade                     0\n",
       "home_ownership                0\n",
       "annual_income                 0\n",
       "verification_status           0\n",
       "issue_d                       0\n",
       "loan_status                   0\n",
       "pymnt_plan                    0\n",
       "purpose                       0\n",
       "addr_state                    0\n",
       "dti                           0\n",
       "delinq_2yrs                   0\n",
       "open_acc                      0\n",
       "pub_rec                       0\n",
       "revol_bal                     0\n",
       "revol_util                    0\n",
       "total_acc                     0\n",
       "initial_list_status           0\n",
       "out_prncp                     0\n",
       "out_prncp_inv                 0\n",
       "total_pymnt                   0\n",
       "total_pymnt_inv               0\n",
       "total_rec_prncp               0\n",
       "total_rec_int                 0\n",
       "total_rec_late_fee            0\n",
       "recoveries                    0\n",
       "collection_recovery_fee       0\n",
       "final_d                       0\n",
       "last_pymnt_amnt               0\n",
       "next_pymnt_d                  0\n",
       "last_credit_pull_d            0\n",
       "collections_12_mths_ex_med    0\n",
       "policy_code                   0\n",
       "application_type              0\n",
       "acc_now_delinq                0\n",
       "year                          0\n",
       "loan_condition                0\n",
       "region                        0\n",
       "complete_date                 0\n",
       "emp_length_int                0\n",
       "income_category               0\n",
       "loan_condition_int            0\n",
       "interest_payments             0\n",
       "income_cat                    0\n",
       "interest_payment_cat          0\n",
       "loan_condition_cat            0\n",
       "application_type_cat          0\n",
       "purpose_cat                   0\n",
       "loan_status_cat               0\n",
       "verification_status_cat       0\n",
       "home_ownership_cat            0\n",
       "grade_cat                     0\n",
       "term_cat                      0\n",
       "dtype: int64"
      ]
     },
     "execution_count": 143,
     "metadata": {},
     "output_type": "execute_result"
    }
   ],
   "source": [
    "df.isnull().sum()"
   ]
  },
  {
   "cell_type": "code",
   "execution_count": 83,
   "metadata": {},
   "outputs": [
    {
     "data": {
      "text/plain": [
       "array(['Verified', 'Source Verified', 'Not Verified'], dtype=object)"
      ]
     },
     "execution_count": 83,
     "metadata": {},
     "output_type": "execute_result"
    }
   ],
   "source": [
    "df.verification_status.unique()"
   ]
  },
  {
   "cell_type": "code",
   "execution_count": 84,
   "metadata": {},
   "outputs": [],
   "source": [
    "# create the 'verification_status' dummy variable using the 'map' method\n",
    "df['verification_status_cat'] = df.verification_status.map({'Verified':1, 'Source Verified':2, 'Not Verified':3})"
   ]
  },
  {
   "cell_type": "code",
   "execution_count": 85,
   "metadata": {},
   "outputs": [
    {
     "data": {
      "text/plain": [
       "array(['RENT', 'OWN', 'MORTGAGE', 'OTHER', 'NONE', 'ANY'], dtype=object)"
      ]
     },
     "execution_count": 85,
     "metadata": {},
     "output_type": "execute_result"
    }
   ],
   "source": [
    "df.home_ownership.unique()"
   ]
  },
  {
   "cell_type": "code",
   "execution_count": 86,
   "metadata": {},
   "outputs": [],
   "source": [
    "# create the 'verification_status' dummy variable using the 'map' method\n",
    "df['home_ownership_cat'] = df.home_ownership.map({'RENT':1, 'OWN':2, 'MORTGAGE':3, 'OTHER':4, 'NONE':5, 'ANY':6})"
   ]
  },
  {
   "cell_type": "code",
   "execution_count": 87,
   "metadata": {},
   "outputs": [
    {
     "data": {
      "text/plain": [
       "array(['B', 'C', 'A', 'E', 'F', 'D', 'G'], dtype=object)"
      ]
     },
     "execution_count": 87,
     "metadata": {},
     "output_type": "execute_result"
    }
   ],
   "source": [
    "df.grade.unique()"
   ]
  },
  {
   "cell_type": "code",
   "execution_count": 136,
   "metadata": {},
   "outputs": [],
   "source": [
    "# create the 'grade' dummy variable using the 'map' method\n",
    "df['grade_cat'] = df.grade.map({'A':1, 'B':2, 'C':3, 'D':4, 'E':5, 'F':6, 'G':7})"
   ]
  },
  {
   "cell_type": "code",
   "execution_count": 141,
   "metadata": {},
   "outputs": [
    {
     "data": {
      "text/plain": [
       "array([' 36 months', ' 60 months'], dtype=object)"
      ]
     },
     "execution_count": 141,
     "metadata": {},
     "output_type": "execute_result"
    }
   ],
   "source": [
    "df.term.unique()"
   ]
  },
  {
   "cell_type": "code",
   "execution_count": 142,
   "metadata": {},
   "outputs": [],
   "source": [
    "# create the 'term' dummy variable using the 'map' method\n",
    "df['term_cat'] = df.term.map({' 36 months':1, ' 60 months':2})"
   ]
  },
  {
   "cell_type": "code",
   "execution_count": 96,
   "metadata": {},
   "outputs": [],
   "source": [
    "df['income_cat'] = df['income_cat'].astype(int)"
   ]
  },
  {
   "cell_type": "code",
   "execution_count": 97,
   "metadata": {},
   "outputs": [],
   "source": [
    "df['home_ownership_cat'] = df['home_ownership_cat'].astype(int)\n",
    "df['verification_status_cat'] = df['verification_status_cat'].astype(int)"
   ]
  },
  {
   "cell_type": "code",
   "execution_count": 144,
   "metadata": {},
   "outputs": [],
   "source": [
    "df['loan_status_cat'] = df['loan_status_cat'].astype(int)"
   ]
  },
  {
   "cell_type": "code",
   "execution_count": 116,
   "metadata": {},
   "outputs": [],
   "source": [
    "# create the 'purpose' dummy variable using the 'map' method\n",
    "df['purpose_cat'] = df.purpose.map({'credit_card':1, 'car':2, \n",
    "                                            'small_business':3, 'other':4,\n",
    "                                            'wedding':5, 'debt_consolidation':6,\n",
    "                                            'home_improvement':7, 'major_purchase':8,\n",
    "                                            'medical':9, 'moving':10,\n",
    "                                            'vacation':11, 'house':12,\n",
    "                                            'renewable_energy':13, 'educational':14})"
   ]
  },
  {
   "cell_type": "code",
   "execution_count": 125,
   "metadata": {},
   "outputs": [
    {
     "data": {
      "text/plain": [
       "loan_amount                        0\n",
       "funded_amount                      0\n",
       "investor_funds                     0\n",
       "term                               0\n",
       "interest_rate                      0\n",
       "installment                        0\n",
       "grade                              0\n",
       "sub_grade                          0\n",
       "home_ownership                     0\n",
       "annual_income                      0\n",
       "verification_status                0\n",
       "issue_d                            0\n",
       "loan_status                        0\n",
       "pymnt_plan                         0\n",
       "purpose                            0\n",
       "addr_state                         0\n",
       "dti                                0\n",
       "delinq_2yrs                        0\n",
       "open_acc                           0\n",
       "pub_rec                            0\n",
       "revol_bal                          0\n",
       "revol_util                         0\n",
       "total_acc                          0\n",
       "initial_list_status                0\n",
       "out_prncp                          0\n",
       "out_prncp_inv                      0\n",
       "total_pymnt                        0\n",
       "total_pymnt_inv                    0\n",
       "total_rec_prncp                    0\n",
       "total_rec_int                      0\n",
       "total_rec_late_fee                 0\n",
       "recoveries                         0\n",
       "collection_recovery_fee            0\n",
       "final_d                            0\n",
       "last_pymnt_amnt                    0\n",
       "next_pymnt_d                       0\n",
       "last_credit_pull_d                 0\n",
       "collections_12_mths_ex_med         0\n",
       "policy_code                        0\n",
       "application_type                   0\n",
       "acc_now_delinq                     0\n",
       "year                               0\n",
       "loan_condition                     0\n",
       "region                             0\n",
       "complete_date                      0\n",
       "emp_length_int                     0\n",
       "income_category                    0\n",
       "loan_condition_int                 0\n",
       "interest_payments                  0\n",
       "income_cat                         0\n",
       "interest_payment_cat               0\n",
       "loan_condition_cat                 0\n",
       "application_type_cat               0\n",
       "purpose_cat                        0\n",
       "loan_status_cat                 9221\n",
       "verification_status_cat            0\n",
       "home_ownership_cat                 0\n",
       "grade_cat                     887379\n",
       "term_cat                      621125\n",
       "dtype: int64"
      ]
     },
     "execution_count": 125,
     "metadata": {},
     "output_type": "execute_result"
    }
   ],
   "source": [
    "df.isnull().sum()"
   ]
  },
  {
   "cell_type": "code",
   "execution_count": 145,
   "metadata": {},
   "outputs": [],
   "source": [
    "df['application_type_cat'] = df['application_type_cat'].astype(int)\n",
    "df['interest_payment_cat'] = df['interest_payment_cat'].astype(int)\n",
    "df['loan_condition_cat'] = df['loan_condition_cat'].astype(int)\n",
    "df['purpose_cat'] = df['purpose_cat'].astype(int)\n",
    "df['grade_cat'] = df['grade_cat'].astype(int)\n",
    "df['term_cat'] = df['term_cat'].astype(int)"
   ]
  },
  {
   "cell_type": "code",
   "execution_count": 146,
   "metadata": {},
   "outputs": [],
   "source": [
    "# We have 67429 loans categorized as bad loans\n",
    "badloans_df = df.loc[df[\"loan_condition\"] == \"Bad Loan\"]"
   ]
  },
  {
   "cell_type": "code",
   "execution_count": 147,
   "metadata": {},
   "outputs": [],
   "source": [
    "# loan_status cross\n",
    "loan_status_cross = pd.crosstab(badloans_df['region'], badloans_df['loan_status']).apply(lambda x: x/x.sum() * 100)\n",
    "number_of_loanstatus = pd.crosstab(badloans_df['region'], badloans_df['loan_status'])"
   ]
  },
  {
   "cell_type": "code",
   "execution_count": 130,
   "metadata": {},
   "outputs": [
    {
     "data": {
      "text/html": [
       "<div>\n",
       "<style scoped>\n",
       "    .dataframe tbody tr th:only-of-type {\n",
       "        vertical-align: middle;\n",
       "    }\n",
       "\n",
       "    .dataframe tbody tr th {\n",
       "        vertical-align: top;\n",
       "    }\n",
       "\n",
       "    .dataframe thead th {\n",
       "        text-align: right;\n",
       "    }\n",
       "</style>\n",
       "<table border=\"1\" class=\"dataframe\">\n",
       "  <thead>\n",
       "    <tr style=\"text-align: right;\">\n",
       "      <th>loan_status</th>\n",
       "      <th>Charged Off</th>\n",
       "      <th>Default</th>\n",
       "      <th>Does not meet the credit policy. Status:Charged Off</th>\n",
       "      <th>In Grace Period</th>\n",
       "      <th>Late (16-30 days)</th>\n",
       "      <th>Late (31-120 days)</th>\n",
       "    </tr>\n",
       "    <tr>\n",
       "      <th>region</th>\n",
       "      <th></th>\n",
       "      <th></th>\n",
       "      <th></th>\n",
       "      <th></th>\n",
       "      <th></th>\n",
       "      <th></th>\n",
       "    </tr>\n",
       "  </thead>\n",
       "  <tbody>\n",
       "    <tr>\n",
       "      <th>Northern-Irl</th>\n",
       "      <td>10671</td>\n",
       "      <td>263</td>\n",
       "      <td>190</td>\n",
       "      <td>1625</td>\n",
       "      <td>585</td>\n",
       "      <td>2799</td>\n",
       "    </tr>\n",
       "    <tr>\n",
       "      <th>cannught</th>\n",
       "      <td>7361</td>\n",
       "      <td>175</td>\n",
       "      <td>142</td>\n",
       "      <td>926</td>\n",
       "      <td>354</td>\n",
       "      <td>1820</td>\n",
       "    </tr>\n",
       "    <tr>\n",
       "      <th>leinster</th>\n",
       "      <td>11094</td>\n",
       "      <td>297</td>\n",
       "      <td>184</td>\n",
       "      <td>1579</td>\n",
       "      <td>600</td>\n",
       "      <td>2925</td>\n",
       "    </tr>\n",
       "    <tr>\n",
       "      <th>munster</th>\n",
       "      <td>4774</td>\n",
       "      <td>166</td>\n",
       "      <td>79</td>\n",
       "      <td>708</td>\n",
       "      <td>273</td>\n",
       "      <td>1407</td>\n",
       "    </tr>\n",
       "    <tr>\n",
       "      <th>ulster</th>\n",
       "      <td>11348</td>\n",
       "      <td>318</td>\n",
       "      <td>166</td>\n",
       "      <td>1415</td>\n",
       "      <td>545</td>\n",
       "      <td>2640</td>\n",
       "    </tr>\n",
       "  </tbody>\n",
       "</table>\n",
       "</div>"
      ],
      "text/plain": [
       "loan_status   Charged Off  Default  \\\n",
       "region                               \n",
       "Northern-Irl        10671      263   \n",
       "cannught             7361      175   \n",
       "leinster            11094      297   \n",
       "munster              4774      166   \n",
       "ulster              11348      318   \n",
       "\n",
       "loan_status   Does not meet the credit policy. Status:Charged Off  \\\n",
       "region                                                              \n",
       "Northern-Irl                                                190     \n",
       "cannught                                                    142     \n",
       "leinster                                                    184     \n",
       "munster                                                      79     \n",
       "ulster                                                      166     \n",
       "\n",
       "loan_status   In Grace Period  Late (16-30 days)  Late (31-120 days)  \n",
       "region                                                                \n",
       "Northern-Irl             1625                585                2799  \n",
       "cannught                  926                354                1820  \n",
       "leinster                 1579                600                2925  \n",
       "munster                   708                273                1407  \n",
       "ulster                   1415                545                2640  "
      ]
     },
     "execution_count": 130,
     "metadata": {},
     "output_type": "execute_result"
    }
   ],
   "source": [
    "number_of_loanstatus"
   ]
  },
  {
   "cell_type": "code",
   "execution_count": 149,
   "metadata": {},
   "outputs": [],
   "source": [
    "df.to_csv('C:\\\\Users\\\\mrferozi\\\\Documents\\\\Panada_ml\\\\loan\\\\lending-club-loan-data\\\\loan_final.csv')"
   ]
  }
 ],
 "metadata": {
  "kernelspec": {
   "display_name": "Python 3",
   "language": "python",
   "name": "python3"
  },
  "language_info": {
   "codemirror_mode": {
    "name": "ipython",
    "version": 3
   },
   "file_extension": ".py",
   "mimetype": "text/x-python",
   "name": "python",
   "nbconvert_exporter": "python",
   "pygments_lexer": "ipython3",
   "version": "3.6.5"
  }
 },
 "nbformat": 4,
 "nbformat_minor": 2
}
